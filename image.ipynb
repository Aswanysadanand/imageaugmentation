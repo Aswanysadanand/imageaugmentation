{
 "cells": [
  {
   "cell_type": "code",
   "execution_count": 5,
   "id": "caae09bd",
   "metadata": {},
   "outputs": [
    {
     "name": "stdout",
     "output_type": "stream",
     "text": [
      "Requirement already satisfied: flask in c:\\users\\hp\\anaconda3\\lib\\site-packages (2.2.2)\n",
      "Requirement already satisfied: flask-cors in c:\\users\\hp\\anaconda3\\lib\\site-packages (4.0.1)\n",
      "Requirement already satisfied: ipywidgets in c:\\users\\hp\\anaconda3\\lib\\site-packages (8.0.4)\n",
      "Requirement already satisfied: pillow in c:\\users\\hp\\anaconda3\\lib\\site-packages (9.4.0)\n",
      "Requirement already satisfied: zipfile36 in c:\\users\\hp\\anaconda3\\lib\\site-packages (0.1.3)\n",
      "Requirement already satisfied: Werkzeug>=2.2.2 in c:\\users\\hp\\anaconda3\\lib\\site-packages (from flask) (2.2.3)\n",
      "Requirement already satisfied: Jinja2>=3.0 in c:\\users\\hp\\anaconda3\\lib\\site-packages (from flask) (3.1.2)\n",
      "Requirement already satisfied: itsdangerous>=2.0 in c:\\users\\hp\\anaconda3\\lib\\site-packages (from flask) (2.0.1)\n",
      "Requirement already satisfied: click>=8.0 in c:\\users\\hp\\anaconda3\\lib\\site-packages (from flask) (8.0.4)\n",
      "Requirement already satisfied: ipykernel>=4.5.1 in c:\\users\\hp\\anaconda3\\lib\\site-packages (from ipywidgets) (6.25.0)\n",
      "Requirement already satisfied: ipython>=6.1.0 in c:\\users\\hp\\anaconda3\\lib\\site-packages (from ipywidgets) (8.15.0)\n",
      "Requirement already satisfied: traitlets>=4.3.1 in c:\\users\\hp\\anaconda3\\lib\\site-packages (from ipywidgets) (5.7.1)\n",
      "Requirement already satisfied: widgetsnbextension~=4.0 in c:\\users\\hp\\anaconda3\\lib\\site-packages (from ipywidgets) (4.0.5)\n",
      "Requirement already satisfied: jupyterlab-widgets~=3.0 in c:\\users\\hp\\anaconda3\\lib\\site-packages (from ipywidgets) (3.0.5)\n",
      "Requirement already satisfied: colorama in c:\\users\\hp\\anaconda3\\lib\\site-packages (from click>=8.0->flask) (0.4.6)\n",
      "Requirement already satisfied: comm>=0.1.1 in c:\\users\\hp\\anaconda3\\lib\\site-packages (from ipykernel>=4.5.1->ipywidgets) (0.1.2)\n",
      "Requirement already satisfied: debugpy>=1.6.5 in c:\\users\\hp\\anaconda3\\lib\\site-packages (from ipykernel>=4.5.1->ipywidgets) (1.6.7)\n",
      "Requirement already satisfied: jupyter-client>=6.1.12 in c:\\users\\hp\\anaconda3\\lib\\site-packages (from ipykernel>=4.5.1->ipywidgets) (7.4.9)\n",
      "Requirement already satisfied: jupyter-core!=5.0.*,>=4.12 in c:\\users\\hp\\anaconda3\\lib\\site-packages (from ipykernel>=4.5.1->ipywidgets) (5.3.0)\n",
      "Requirement already satisfied: matplotlib-inline>=0.1 in c:\\users\\hp\\anaconda3\\lib\\site-packages (from ipykernel>=4.5.1->ipywidgets) (0.1.6)\n",
      "Requirement already satisfied: nest-asyncio in c:\\users\\hp\\anaconda3\\lib\\site-packages (from ipykernel>=4.5.1->ipywidgets) (1.5.6)\n",
      "Requirement already satisfied: packaging in c:\\users\\hp\\anaconda3\\lib\\site-packages (from ipykernel>=4.5.1->ipywidgets) (23.1)\n",
      "Requirement already satisfied: psutil in c:\\users\\hp\\anaconda3\\lib\\site-packages (from ipykernel>=4.5.1->ipywidgets) (5.9.0)\n",
      "Requirement already satisfied: pyzmq>=20 in c:\\users\\hp\\anaconda3\\lib\\site-packages (from ipykernel>=4.5.1->ipywidgets) (23.2.0)\n",
      "Requirement already satisfied: tornado>=6.1 in c:\\users\\hp\\anaconda3\\lib\\site-packages (from ipykernel>=4.5.1->ipywidgets) (6.3.2)\n",
      "Requirement already satisfied: backcall in c:\\users\\hp\\anaconda3\\lib\\site-packages (from ipython>=6.1.0->ipywidgets) (0.2.0)\n",
      "Requirement already satisfied: decorator in c:\\users\\hp\\anaconda3\\lib\\site-packages (from ipython>=6.1.0->ipywidgets) (5.1.1)\n",
      "Requirement already satisfied: jedi>=0.16 in c:\\users\\hp\\anaconda3\\lib\\site-packages (from ipython>=6.1.0->ipywidgets) (0.18.1)\n",
      "Requirement already satisfied: pickleshare in c:\\users\\hp\\anaconda3\\lib\\site-packages (from ipython>=6.1.0->ipywidgets) (0.7.5)\n",
      "Requirement already satisfied: prompt-toolkit!=3.0.37,<3.1.0,>=3.0.30 in c:\\users\\hp\\anaconda3\\lib\\site-packages (from ipython>=6.1.0->ipywidgets) (3.0.36)\n",
      "Requirement already satisfied: pygments>=2.4.0 in c:\\users\\hp\\anaconda3\\lib\\site-packages (from ipython>=6.1.0->ipywidgets) (2.15.1)\n",
      "Requirement already satisfied: stack-data in c:\\users\\hp\\anaconda3\\lib\\site-packages (from ipython>=6.1.0->ipywidgets) (0.2.0)\n",
      "Requirement already satisfied: MarkupSafe>=2.0 in c:\\users\\hp\\anaconda3\\lib\\site-packages (from Jinja2>=3.0->flask) (2.1.1)\n",
      "Requirement already satisfied: parso<0.9.0,>=0.8.0 in c:\\users\\hp\\anaconda3\\lib\\site-packages (from jedi>=0.16->ipython>=6.1.0->ipywidgets) (0.8.3)\n",
      "Requirement already satisfied: entrypoints in c:\\users\\hp\\anaconda3\\lib\\site-packages (from jupyter-client>=6.1.12->ipykernel>=4.5.1->ipywidgets) (0.4)\n",
      "Requirement already satisfied: python-dateutil>=2.8.2 in c:\\users\\hp\\anaconda3\\lib\\site-packages (from jupyter-client>=6.1.12->ipykernel>=4.5.1->ipywidgets) (2.8.2)\n",
      "Requirement already satisfied: platformdirs>=2.5 in c:\\users\\hp\\anaconda3\\lib\\site-packages (from jupyter-core!=5.0.*,>=4.12->ipykernel>=4.5.1->ipywidgets) (3.10.0)\n",
      "Requirement already satisfied: pywin32>=300 in c:\\users\\hp\\anaconda3\\lib\\site-packages (from jupyter-core!=5.0.*,>=4.12->ipykernel>=4.5.1->ipywidgets) (305.1)\n",
      "Requirement already satisfied: wcwidth in c:\\users\\hp\\anaconda3\\lib\\site-packages (from prompt-toolkit!=3.0.37,<3.1.0,>=3.0.30->ipython>=6.1.0->ipywidgets) (0.2.5)\n",
      "Requirement already satisfied: executing in c:\\users\\hp\\anaconda3\\lib\\site-packages (from stack-data->ipython>=6.1.0->ipywidgets) (0.8.3)\n",
      "Requirement already satisfied: asttokens in c:\\users\\hp\\anaconda3\\lib\\site-packages (from stack-data->ipython>=6.1.0->ipywidgets) (2.0.5)\n",
      "Requirement already satisfied: pure-eval in c:\\users\\hp\\anaconda3\\lib\\site-packages (from stack-data->ipython>=6.1.0->ipywidgets) (0.2.2)\n",
      "Requirement already satisfied: six>=1.5 in c:\\users\\hp\\anaconda3\\lib\\site-packages (from python-dateutil>=2.8.2->jupyter-client>=6.1.12->ipykernel>=4.5.1->ipywidgets) (1.16.0)\n",
      "Note: you may need to restart the kernel to use updated packages.\n"
     ]
    }
   ],
   "source": [
    "pip install flask flask-cors ipywidgets pillow zipfile36"
   ]
  },
  {
   "cell_type": "code",
   "execution_count": 6,
   "id": "a3d45272",
   "metadata": {},
   "outputs": [
    {
     "name": "stdout",
     "output_type": "stream",
     "text": [
      " * Serving Flask app '__main__'\n",
      " * Debug mode: on\n"
     ]
    },
    {
     "name": "stderr",
     "output_type": "stream",
     "text": [
      "WARNING: This is a development server. Do not use it in a production deployment. Use a production WSGI server instead.\n",
      " * Running on http://127.0.0.1:5000\n",
      "Press CTRL+C to quit\n"
     ]
    }
   ],
   "source": [
    "import os\n",
    "from flask import Flask, request, send_file\n",
    "from flask_cors import CORS\n",
    "from PIL import Image, ImageEnhance, ImageOps\n",
    "from io import BytesIO\n",
    "import zipfile\n",
    "import threading\n",
    "\n",
    "app = Flask(__name__)\n",
    "CORS(app)\n",
    "\n",
    "UPLOAD_FOLDER = 'uploads'\n",
    "AUGMENTED_FOLDER = 'augmented'\n",
    "os.makedirs(UPLOAD_FOLDER, exist_ok=True)\n",
    "os.makedirs(AUGMENTED_FOLDER, exist_ok=True)\n",
    "\n",
    "def augment_image(image_path, operations):\n",
    "    img = Image.open(image_path)\n",
    "    for operation in operations:\n",
    "        if operation == 'rotate':\n",
    "            img = img.rotate(90)\n",
    "        elif operation == 'flip':\n",
    "            img = ImageOps.flip(img)\n",
    "        elif operation == 'mirror':\n",
    "            img = ImageOps.mirror(img)\n",
    "        elif operation == 'zoom':\n",
    "            width, height = img.size\n",
    "            img = img.crop((width*0.1, height*0.1, width*0.9, height*0.9))\n",
    "            img = img.resize((width, height), Image.LANCZOS)\n",
    "        elif operation == 'color':\n",
    "            enhancer = ImageEnhance.Color(img)\n",
    "            img = enhancer.enhance(2.0)\n",
    "    return img\n",
    "\n",
    "@app.route('/upload', methods=['POST'])\n",
    "def upload_files():\n",
    "    files = request.files.getlist('files')\n",
    "    operations = request.form.getlist('operations')\n",
    "    zip_buffer = BytesIO()\n",
    "\n",
    "    with zipfile.ZipFile(zip_buffer, 'a', zipfile.ZIP_DEFLATED) as zip_file:\n",
    "        for file in files:\n",
    "            filename = file.filename\n",
    "            file_path = os.path.join(UPLOAD_FOLDER, filename)\n",
    "            file.save(file_path)\n",
    "            \n",
    "            augmented_img = augment_image(file_path, operations)\n",
    "            augmented_img_path = os.path.join(AUGMENTED_FOLDER, filename)\n",
    "            augmented_img.save(augmented_img_path)\n",
    "            \n",
    "            zip_file.write(augmented_img_path, os.path.basename(augmented_img_path))\n",
    "\n",
    "    zip_buffer.seek(0)\n",
    "    return send_file(zip_buffer, as_attachment=True, attachment_filename='augmented_images.zip')\n",
    "\n",
    "def run_flask():\n",
    "    app.run(debug=True, use_reloader=False)\n",
    "\n",
    "# Run the Flask app in a separate thread\n",
    "threading.Thread(target=run_flask).start()\n"
   ]
  },
  {
   "cell_type": "code",
   "execution_count": 7,
   "id": "7458e3a4",
   "metadata": {},
   "outputs": [
    {
     "data": {
      "application/vnd.jupyter.widget-view+json": {
       "model_id": "28edf27c52e947038a13d4600c5b9d3b",
       "version_major": 2,
       "version_minor": 0
      },
      "text/plain": [
       "FileUpload(value=(), accept='image/*', description='Upload', multiple=True)"
      ]
     },
     "metadata": {},
     "output_type": "display_data"
    },
    {
     "data": {
      "application/vnd.jupyter.widget-view+json": {
       "model_id": "e50edea5d5c64861a25f26075d85670c",
       "version_major": 2,
       "version_minor": 0
      },
      "text/plain": [
       "Checkbox(value=False, description='Rotate')"
      ]
     },
     "metadata": {},
     "output_type": "display_data"
    },
    {
     "data": {
      "application/vnd.jupyter.widget-view+json": {
       "model_id": "d59e63701cd14d7faf091b432c937baa",
       "version_major": 2,
       "version_minor": 0
      },
      "text/plain": [
       "Checkbox(value=False, description='Flip')"
      ]
     },
     "metadata": {},
     "output_type": "display_data"
    },
    {
     "data": {
      "application/vnd.jupyter.widget-view+json": {
       "model_id": "93088d3ad01840cc9018a6727eb4d998",
       "version_major": 2,
       "version_minor": 0
      },
      "text/plain": [
       "Checkbox(value=False, description='Mirror')"
      ]
     },
     "metadata": {},
     "output_type": "display_data"
    },
    {
     "data": {
      "application/vnd.jupyter.widget-view+json": {
       "model_id": "49b0e5af9b5641819888b2f072a68dc1",
       "version_major": 2,
       "version_minor": 0
      },
      "text/plain": [
       "Checkbox(value=False, description='Zoom')"
      ]
     },
     "metadata": {},
     "output_type": "display_data"
    },
    {
     "data": {
      "application/vnd.jupyter.widget-view+json": {
       "model_id": "8af1ff614f4d47189b2e63b970a694c9",
       "version_major": 2,
       "version_minor": 0
      },
      "text/plain": [
       "Checkbox(value=False, description='Color Adjustment')"
      ]
     },
     "metadata": {},
     "output_type": "display_data"
    },
    {
     "data": {
      "application/vnd.jupyter.widget-view+json": {
       "model_id": "977ab122e2bf4b38a35f0de33ca61f11",
       "version_major": 2,
       "version_minor": 0
      },
      "text/plain": [
       "Button(description='Upload and Augment', style=ButtonStyle())"
      ]
     },
     "metadata": {},
     "output_type": "display_data"
    },
    {
     "data": {
      "application/vnd.jupyter.widget-view+json": {
       "model_id": "a02907e488c643718661e842df968dc3",
       "version_major": 2,
       "version_minor": 0
      },
      "text/plain": [
       "Output()"
      ]
     },
     "metadata": {},
     "output_type": "display_data"
    }
   ],
   "source": [
    "import ipywidgets as widgets\n",
    "from IPython.display import display, clear_output\n",
    "import requests\n",
    "\n",
    "# File upload widget\n",
    "upload_widget = widgets.FileUpload(accept='image/*', multiple=True)\n",
    "\n",
    "# Checkboxes for augmentation operations\n",
    "rotate_checkbox = widgets.Checkbox(value=False, description='Rotate')\n",
    "flip_checkbox = widgets.Checkbox(value=False, description='Flip')\n",
    "mirror_checkbox = widgets.Checkbox(value=False, description='Mirror')\n",
    "zoom_checkbox = widgets.Checkbox(value=False, description='Zoom')\n",
    "color_checkbox = widgets.Checkbox(value=False, description='Color Adjustment')\n",
    "\n",
    "# Button to trigger the upload and augmentation process\n",
    "upload_button = widgets.Button(description='Upload and Augment')\n",
    "\n",
    "# Output widget to display the download link\n",
    "output_widget = widgets.Output()\n",
    "\n",
    "def on_button_click(b):\n",
    "    with output_widget:\n",
    "        clear_output()\n",
    "        files = upload_widget.value\n",
    "        operations = []\n",
    "        if rotate_checkbox.value:\n",
    "            operations.append('rotate')\n",
    "        if flip_checkbox.value:\n",
    "            operations.append('flip')\n",
    "        if mirror_checkbox.value:\n",
    "            operations.append('mirror')\n",
    "        if zoom_checkbox.value:\n",
    "            operations.append('zoom')\n",
    "        if color_checkbox.value:\n",
    "            operations.append('color')\n",
    "\n",
    "        if files:\n",
    "            form_data = {\n",
    "                'files': (f['metadata']['name'], f['content']) for f in files.values()\n",
    "            }\n",
    "            for operation in operations:\n",
    "                form_data[operation] = (None, operation)\n",
    "            \n",
    "            response = requests.post('http://localhost:5000/upload', files=form_data)\n",
    "            \n",
    "            if response.status_code == 200:\n",
    "                download_link = widgets.HTML(\n",
    "                    value=f\"<a href='data:application/zip;base64,{response.content.decode('latin1')}' download='augmented_images.zip'>Download Augmented Images</a>\"\n",
    "                )\n",
    "                display(download_link)\n",
    "            else:\n",
    "                display(widgets.HTML(value=f\"<p>Upload failed with status {response.status_code}</p>\"))\n",
    "\n",
    "upload_button.on_click(on_button_click)\n",
    "\n",
    "# Display the UI components\n",
    "display(upload_widget)\n",
    "display(rotate_checkbox, flip_checkbox, mirror_checkbox, zoom_checkbox, color_checkbox)\n",
    "display(upload_button)\n",
    "display(output_widget)\n"
   ]
  },
  {
   "cell_type": "code",
   "execution_count": null,
   "id": "0dac415b",
   "metadata": {},
   "outputs": [],
   "source": []
  },
  {
   "cell_type": "code",
   "execution_count": null,
   "id": "ed43bcb7",
   "metadata": {},
   "outputs": [],
   "source": []
  }
 ],
 "metadata": {
  "kernelspec": {
   "display_name": "Python 3 (ipykernel)",
   "language": "python",
   "name": "python3"
  },
  "language_info": {
   "codemirror_mode": {
    "name": "ipython",
    "version": 3
   },
   "file_extension": ".py",
   "mimetype": "text/x-python",
   "name": "python",
   "nbconvert_exporter": "python",
   "pygments_lexer": "ipython3",
   "version": "3.11.5"
  }
 },
 "nbformat": 4,
 "nbformat_minor": 5
}
